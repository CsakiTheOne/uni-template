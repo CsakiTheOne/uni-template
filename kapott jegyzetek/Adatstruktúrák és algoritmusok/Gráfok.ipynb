{
 "cells": [
  {
   "cell_type": "markdown",
   "metadata": {},
   "source": [
    "# Gráfok\n",
    "\n",
    "A gráf a matematikai gráfelmélet és a számítógéptudomány egyik alapvető fogalma. A gráf dolgok (csomópontok, csúcsok) és rajtuk értelmezett összeköttetések (élek) halmaza.\n",
    "\n",
    "## Gráfok tárolása\n",
    "\n",
    "Kódban több módon is tárolhatunk gráfot. Ebben a jegyzetfüzetben a legnépszerűbb módszerek találhatóak meg.\n",
    "\n",
    "### Szomszédsági lista\n",
    "\n",
    "A szomszédsági lista egy olyan adatszerkezet, amelyben minden csúcsnak egy listája van, amely tartalmazza azokat a csúcsokat, amelyekkel összeköttetésben van.\n",
    "\n",
    "Példa:\n",
    "\n",
    "```\n",
    "A<--B\n",
    "| \\\n",
    "|  \\\n",
    "C    D---E\n",
    "\n",
    "[\n",
    "    [2, 3],\n",
    "    [0],\n",
    "    [0],\n",
    "    [0, 4],\n",
    "    [3]\n",
    "]\n",
    "```"
   ]
  },
  {
   "cell_type": "code",
   "execution_count": 32,
   "metadata": {},
   "outputs": [],
   "source": [
    "class AdjecencyList:\n",
    "    def __init__(self, list):\n",
    "        self.graph = list\n",
    "        self.n = len(list)\n",
    "\n",
    "    def add_edge(self, u, v):\n",
    "        self.graph[u].append(v)\n",
    "        self.graph[v].append(u)\n",
    "    \n",
    "    def remove_edge(self, u, v):\n",
    "        self.graph[u].remove(v)\n",
    "        self.graph[v].remove(u)\n",
    "\n",
    "    def add_directed_edge(self, u, v):\n",
    "        self.graph[u].append(v)\n",
    "\n",
    "    def remove_directed_edge(self, u, v):\n",
    "        self.graph[u].remove(v)\n",
    "\n",
    "    def __str__(self):\n",
    "        return str(self.graph)"
   ]
  },
  {
   "cell_type": "markdown",
   "metadata": {},
   "source": [
    "### Szomszédsági mátrix\n",
    "\n",
    "A szomszédsági mátrix egy olyan mátrix, amelyben a sorok és oszlopok a csúcsokat jelölik, és a mátrix elemei azt mutatják, hogy az adott két csúcs összeköttetésben van-e. A mátrix elemei lehetnek logikai értékek vagy súlyok.\n",
    "\n",
    "Példa:\n",
    "\n",
    "```\n",
    "A<--B\n",
    "^  /|\n",
    "| / |\n",
    "C---D---E\n",
    "\n",
    "[\n",
    "    [0, 0, 0, 0, 0],\n",
    "    [1, 0, 0, 1, 1],\n",
    "    [1, 1, 0, 1, 0],\n",
    "    [0, 1, 1, 0, 1],\n",
    "    [0, 0, 0, 1, 0]\n",
    "]\n",
    "```"
   ]
  },
  {
   "cell_type": "code",
   "execution_count": 33,
   "metadata": {},
   "outputs": [],
   "source": [
    "class AdjecencyMatrix:\n",
    "    def __init__(self, matrix):\n",
    "        self.graph = matrix\n",
    "        self.n = len(matrix)\n",
    "\n",
    "    def add_edge(self, u, v, weight=1):\n",
    "        self.graph[u][v] = weight\n",
    "        self.graph[v][u] = weight\n",
    "\n",
    "    def remove_edge(self, u, v):\n",
    "        self.graph[u][v] = 0\n",
    "        self.graph[v][u] = 0\n",
    "\n",
    "    def add_directed_edge(self, u, v, weight=1):\n",
    "        self.graph[u][v] = weight\n",
    "\n",
    "    def remove_directed_edge(self, u, v):\n",
    "        self.graph[u][v] = 0\n",
    "\n",
    "    def __str__(self):\n",
    "        return str(self.graph)"
   ]
  },
  {
   "cell_type": "markdown",
   "metadata": {},
   "source": [
    "Példa gráf létrehozása:\n",
    "\n",
    "```\n",
    "0---1\n",
    "|   | \\\n",
    "|   |  \\\n",
    "2---3---4\n",
    "```"
   ]
  },
  {
   "cell_type": "code",
   "execution_count": 34,
   "metadata": {},
   "outputs": [],
   "source": [
    "example_graph = AdjecencyList([[1, 2], [0, 3, 4], [0, 3], [1, 2, 4], [1, 3]])"
   ]
  },
  {
   "cell_type": "markdown",
   "metadata": {},
   "source": [
    "## Gráfok bejárása\n",
    "\n",
    "A gráfok bejárása a gráf csúcsainak meglátogatását jelenti. A bejárások közül a legismertebbek a mélységi bejárás (DFS) és a szélességi bejárás (BFS).\n",
    "\n",
    "### Mélységi bejárás (DFS - Depth First Search)\n",
    "\n",
    "A mélységi bejárás egy olyan algoritmus, amely a gráf egy csúcsából indulva a lehető legmélyebbre megy, majd visszalép, és a következő csúcsot választja. Az algoritmus rekurzív vagy verem segítségével valósítható meg."
   ]
  },
  {
   "cell_type": "code",
   "execution_count": 35,
   "metadata": {},
   "outputs": [
    {
     "name": "stdout",
     "output_type": "stream",
     "text": [
      "0 1 3 2 4 "
     ]
    }
   ],
   "source": [
    "def dfs(graph, visited, node):\n",
    "    visited[node] = True\n",
    "    print(node, end=' ')\n",
    "    for i in graph.graph[node]:\n",
    "        if not visited[i]:\n",
    "            dfs(graph, visited, i)\n",
    "\n",
    "dfs(example_graph, [False]*example_graph.n, 0)"
   ]
  },
  {
   "cell_type": "markdown",
   "metadata": {},
   "source": [
    "### Szélességi bejárás (BFS - Breadth First Search)\n",
    "\n",
    "A szélességi bejárás egy olyan algoritmus, amely a gráf egy csúcsából indulva a szomszédos csúcsokat látogatja meg, majd a szomszédos csúcsok szomszédosait. Az algoritmus sor segítségével valósítható meg."
   ]
  },
  {
   "cell_type": "code",
   "execution_count": 36,
   "metadata": {},
   "outputs": [
    {
     "name": "stdout",
     "output_type": "stream",
     "text": [
      "0 1 2 3 4 "
     ]
    }
   ],
   "source": [
    "def bfs(graph, visited, node):\n",
    "    queue = [node]\n",
    "    visited[node] = True\n",
    "    while queue:\n",
    "        node = queue.pop(0)\n",
    "        print(node, end=' ')\n",
    "        for i in graph[node]:\n",
    "            if not visited[i]:\n",
    "                queue.append(i)\n",
    "                visited[i] = True\n",
    "\n",
    "bfs(example_graph.graph, [False]*example_graph.n, 0)"
   ]
  }
 ],
 "metadata": {
  "kernelspec": {
   "display_name": "Python 3",
   "language": "python",
   "name": "python3"
  },
  "language_info": {
   "codemirror_mode": {
    "name": "ipython",
    "version": 3
   },
   "file_extension": ".py",
   "mimetype": "text/x-python",
   "name": "python",
   "nbconvert_exporter": "python",
   "pygments_lexer": "ipython3",
   "version": "3.11.0"
  }
 },
 "nbformat": 4,
 "nbformat_minor": 2
}
